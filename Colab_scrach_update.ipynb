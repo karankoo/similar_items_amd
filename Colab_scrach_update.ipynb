{
 "cells": [
  {
   "cell_type": "code",
   "execution_count": 1,
   "id": "ee031e4e",
   "metadata": {},
   "outputs": [
    {
     "name": "stdout",
     "output_type": "stream",
     "text": [
      "All libraries imported successfully.\n"
     ]
    },
    {
     "name": "stderr",
     "output_type": "stream",
     "text": [
      "[nltk_data] Downloading package stopwords to\n",
      "[nltk_data]     /Users/karankooshavar/nltk_data...\n",
      "[nltk_data]   Package stopwords is already up-to-date!\n"
     ]
    }
   ],
   "source": [
    "# Import necessary libraries\n",
    "\n",
    "#!pip install pyspark\n",
    "#!pip install nltk\n",
    "#!pip install matplotlib\n",
    "#!pip install kaggle\n",
    "\n",
    "import os\n",
    "import zipfile\n",
    "\n",
    "import nltk\n",
    "from nltk.stem import PorterStemmer\n",
    "\n",
    "import matplotlib.pyplot as plt\n",
    "import random\n",
    "\n",
    "from pyspark.sql import SparkSession\n",
    "from pyspark import StorageLevel\n",
    "from pyspark.sql.functions import col, lower, regexp_replace, trim, rand, udf, size, explode, struct\n",
    "from pyspark.sql.types import ArrayType, StringType, BooleanType, StructType, StructField, IntegerType, LongType, FloatType\n",
    "from pyspark.ml.feature import Tokenizer, StopWordsRemover, CountVectorizer, MinHashLSH\n",
    "from pyspark.sql.functions import monotonically_increasing_id\n",
    "\n",
    "\n",
    "nltk.download('stopwords')\n",
    "\n",
    "print(\"All libraries imported successfully.\")"
   ]
  },
  {
   "cell_type": "code",
   "execution_count": 2,
   "id": "09b6b455",
   "metadata": {},
   "outputs": [
    {
     "name": "stdout",
     "output_type": "stream",
     "text": [
      "'Books_rating.csv' already exists. Skipping download and unzip.\n"
     ]
    }
   ],
   "source": [
    "# download the dataset from Kaggle if not already present\n",
    "\n",
    "csv_file = 'Books_rating.csv'\n",
    "zip_file = 'amazon-books-reviews.zip'\n",
    "\n",
    "# download and unzip if the final CSV file does not exist\n",
    "\n",
    "if not os.path.exists(csv_file):\n",
    "\n",
    "    os.environ['KAGGLE_USERNAME'] = \"xxxxxx\"\n",
    "    os.environ['KAGGLE_KEY'] = \"xxxxxx\"\n",
    "\n",
    "    !kaggle datasets download -d mohamedbakhet/amazon-books-reviews\n",
    "\n",
    "    with zipfile.ZipFile(zip_file, 'r') as zip_ref:\n",
    "        zip_ref.extractall('.')\n",
    "    print(\"Dataset downloaded and unzipped successfully.\")\n",
    "\n",
    "    os.remove(zip_file)\n",
    "\n",
    "else:\n",
    "    print(f\"'{csv_file}' already exists. Skipping download and unzip.\")"
   ]
  },
  {
   "cell_type": "code",
   "execution_count": 3,
   "id": "bf489131",
   "metadata": {},
   "outputs": [
    {
     "name": "stderr",
     "output_type": "stream",
     "text": [
      "WARNING: Using incubator modules: jdk.incubator.vector\n",
      "Using Spark's default log4j profile: org/apache/spark/log4j2-defaults.properties\n",
      "25/07/11 20:10:03 WARN Utils: Your hostname, Karans-MacBook-Pro.local, resolves to a loopback address: 127.0.0.1; using 192.168.0.106 instead (on interface en0)\n",
      "25/07/11 20:10:03 WARN Utils: Set SPARK_LOCAL_IP if you need to bind to another address\n",
      "Using Spark's default log4j profile: org/apache/spark/log4j2-defaults.properties\n",
      "Setting default log level to \"WARN\".\n",
      "To adjust logging level use sc.setLogLevel(newLevel). For SparkR, use setLogLevel(newLevel).\n",
      "25/07/11 20:10:05 WARN NativeCodeLoader: Unable to load native-hadoop library for your platform... using builtin-java classes where applicable\n"
     ]
    }
   ],
   "source": [
    "# Initialize Spark session\n",
    "# Set the Spark application name and memory configuration\n",
    "\n",
    "spark = SparkSession.builder \\\n",
    "    .appName(\"BookReviewSimilarity\") \\\n",
    "    .config(\"spark.driver.memory\", \"8g\") \\\n",
    "    .getOrCreate()\n"
   ]
  },
  {
   "cell_type": "code",
   "execution_count": 4,
   "id": "53ecd7eb",
   "metadata": {},
   "outputs": [
    {
     "name": "stderr",
     "output_type": "stream",
     "text": [
      "[Stage 2:============================================>            (17 + 5) / 22]\r"
     ]
    },
    {
     "name": "stdout",
     "output_type": "stream",
     "text": [
      "Using a sample of 50000 rows.\n"
     ]
    },
    {
     "name": "stderr",
     "output_type": "stream",
     "text": [
      "                                                                                \r"
     ]
    }
   ],
   "source": [
    "\n",
    "\n",
    "# loading dataset\n",
    "DATA_PATH = \"Books_rating.csv\"\n",
    "df = spark.read.csv(DATA_PATH, header=True, inferSchema=True)\n",
    "\n",
    "# specifying the sample size(to be filled manually)\n",
    "df = df.orderBy(rand(seed=42)).limit(50000)\n",
    "\n",
    "print(f\"Using a sample of {df.count()} rows.\")\n",
    "\n"
   ]
  },
  {
   "cell_type": "code",
   "execution_count": 5,
   "id": "6365d713",
   "metadata": {},
   "outputs": [],
   "source": [
    "#cleaning the dataset\n",
    "\n",
    "df = df.na.drop(subset=[\"Title\", \"review/text\"])\n",
    "\n",
    "# cleaning Title column\n",
    "\n",
    "df = df.withColumn('clean_title', lower(col('Title')))\n",
    "df = df.withColumn('clean_title', regexp_replace('clean_title', r'[^a-z0-9\\s]', ''))\n",
    "df = df.withColumn('clean_title', regexp_replace('clean_title', r'\\\\s+', ' '))\n",
    "df = df.withColumn('clean_title', trim(col('clean_title')))\n",
    "\n",
    "\n",
    "# cleaning Review Text\n",
    "df = df.withColumn('clean_text', lower(col('review/text')))\n",
    "df = df.withColumn('clean_text', regexp_replace('clean_text', r'[^a-z\\s]', ''))\n",
    "df = df.withColumn('clean_text', trim(col('clean_text')))\n"
   ]
  },
  {
   "cell_type": "code",
   "execution_count": 6,
   "id": "e7d5320d",
   "metadata": {},
   "outputs": [
    {
     "name": "stderr",
     "output_type": "stream",
     "text": [
      "                                                                                \r"
     ]
    },
    {
     "name": "stdout",
     "output_type": "stream",
     "text": [
      "Rows before number-only review filtering: 49997\n"
     ]
    },
    {
     "name": "stderr",
     "output_type": "stream",
     "text": [
      "[Stage 7:>                                                          (0 + 1) / 1]\r"
     ]
    },
    {
     "name": "stdout",
     "output_type": "stream",
     "text": [
      "Rows after number-only review filtering: 49923\n"
     ]
    },
    {
     "name": "stderr",
     "output_type": "stream",
     "text": [
      "                                                                                \r"
     ]
    }
   ],
   "source": [
    "# remove reviews that are only numbers and spaces\n",
    "\n",
    "print(f\"Rows before number-only review filtering: {df.count()}\")\n",
    "\n",
    "\n",
    "df = df.filter(~col(\"clean_text\").rlike(\"^[\\\\d\\\\s]*$\"))\n",
    "\n",
    "print(f\"Rows after number-only review filtering: {df.count()}\")"
   ]
  },
  {
   "cell_type": "code",
   "execution_count": 7,
   "id": "9446644e",
   "metadata": {},
   "outputs": [
    {
     "name": "stderr",
     "output_type": "stream",
     "text": [
      "25/07/11 20:10:28 WARN StopWordsRemover: Default locale set was [en_IT]; however, it was not found in available locales in JVM, falling back to en_US locale. Set param `locale` in order to respect another locale.\n"
     ]
    }
   ],
   "source": [
    "# tokenize text using Spark's Tokenizer\n",
    "\n",
    "tokenizer = Tokenizer(inputCol=\"clean_text\", outputCol=\"words\")\n",
    "df = tokenizer.transform(df)\n",
    "\n",
    "# remove stopwords\n",
    "\n",
    "remover = StopWordsRemover(inputCol=\"words\", outputCol=\"filtered_words\")\n",
    "df = remover.transform(df)\n",
    "\n",
    "# stemming \n",
    "\n",
    "ps = PorterStemmer()\n",
    "def stem_text(words):\n",
    "    if not words:\n",
    "        return []\n",
    "    return [ps.stem(word) for word in words]\n",
    "\n",
    "stem_udf = udf(stem_text, ArrayType(StringType()))\n",
    "df = df.withColumn(\"tokens\", stem_udf(col(\"filtered_words\")))\n"
   ]
  },
  {
   "cell_type": "code",
   "execution_count": 8,
   "id": "eb0c750b",
   "metadata": {},
   "outputs": [
    {
     "name": "stdout",
     "output_type": "stream",
     "text": [
      "Added unique 'review_id' to each row.\n"
     ]
    }
   ],
   "source": [
    "# Add a unique identifier to each review row. This is crucial for the self-join later.\n",
    "df = df.withColumn(\"review_id\", monotonically_increasing_id())\n",
    "\n",
    "print(\"Added unique 'review_id' to each row.\")"
   ]
  },
  {
   "cell_type": "code",
   "execution_count": 9,
   "id": "06163aea",
   "metadata": {},
   "outputs": [
    {
     "name": "stderr",
     "output_type": "stream",
     "text": [
      "[Stage 15:>                                                         (0 + 1) / 1]\r"
     ]
    },
    {
     "name": "stdout",
     "output_type": "stream",
     "text": [
      "Rows after strict zero-vector filtering: 49910\n"
     ]
    },
    {
     "name": "stderr",
     "output_type": "stream",
     "text": [
      "                                                                                \r"
     ]
    }
   ],
   "source": [
    "\n",
    "# vectorize the final tokens using CountVectorizer\n",
    "\n",
    "# removing empty token lists\n",
    "df = df.filter(size(col('tokens')) > 0)\n",
    "\n",
    "# vectorize tokens\n",
    "cv = CountVectorizer(inputCol=\"tokens\", outputCol=\"features\", minDF=2, vocabSize=10000) # Added vocabSize limit\n",
    "df = cv.fit(df).transform(df)\n",
    "\n",
    "# function to find zero-vectors (minhash won't work with zero-vectors)\n",
    "\n",
    "def has_nonzero(v):\n",
    "    return v is not None and v.numNonzeros() > 0\n",
    "has_nonzero_udf = udf(has_nonzero, BooleanType())\n",
    "\n",
    "# remove the found zero-vectors, caching the result\n",
    "\n",
    "df_clean = df.filter(has_nonzero_udf(col(\"features\"))).persist(StorageLevel.MEMORY_AND_DISK)\n",
    "\n",
    "print(\"Rows after strict zero-vector filtering:\", df_clean.count())"
   ]
  },
  {
   "cell_type": "code",
   "execution_count": 10,
   "id": "0632e8eb",
   "metadata": {},
   "outputs": [
    {
     "name": "stdout",
     "output_type": "stream",
     "text": [
      "Generating Min-Hash signatures for each review...\n",
      "Applying LSH banding to find candidate pairs...\n",
      "Calculating Jaccard Distance and filtering for pairs with distance < 0.60...\n"
     ]
    },
    {
     "name": "stderr",
     "output_type": "stream",
     "text": [
      "                                                                                \r"
     ]
    },
    {
     "name": "stdout",
     "output_type": "stream",
     "text": [
      "Found 3327 candidate pairs with Jaccard Distance less than 0.60.\n"
     ]
    }
   ],
   "source": [
    "# From scratch implementation\n",
    "\n",
    "# due to limited memmory, can be commented out on better hardware\n",
    "spark.conf.set(\"spark.sql.shuffle.partitions\", 1000)\n",
    "\n",
    "# LSH parameters\n",
    "JACCARD_DISTANCE = 0.6\n",
    "JACCARD_SIMILARITY = 1 - JACCARD_DISTANCE \n",
    "NUM_HASHES = 100\n",
    "NUM_BANDS = 50\n",
    "ROWS_PER_BAND = NUM_HASHES // NUM_BANDS\n",
    "\n",
    "# first prime number larger than the vocabulary\n",
    "PRIME_P = 10007\n",
    "\n",
    "# Generate coefficients for our hash functions: h(x) = (a*x + b) % p\n",
    "random.seed(42)\n",
    "hash_coeffs_a = [random.randint(1, PRIME_P - 1) for _ in range(NUM_HASHES)]\n",
    "hash_coeffs_b = [random.randint(0, PRIME_P - 1) for _ in range(NUM_HASHES)]\n",
    "\n",
    "# Broadcast these small lists to all worker nodes for efficiency\n",
    "broadcast_hash_coeffs_a = spark.sparkContext.broadcast(hash_coeffs_a)\n",
    "broadcast_hash_coeffs_b = spark.sparkContext.broadcast(hash_coeffs_b)\n",
    "\n",
    "\n",
    "# Min-Hash Signature Calculation\n",
    "\n",
    "# Function to compute Min-Hash signatures for each review\n",
    "def generate_minhash_signature(feature_vector):\n",
    "    \"\"\"\n",
    "    Takes a sparse feature vector and computes its Min-Hash signature.\n",
    "    The indices of the vector represent the words (shingles) present in the document.\n",
    "    \"\"\"\n",
    "    signature = [float('inf')] * NUM_HASHES\n",
    "    \n",
    "\n",
    "    # makinga standard Python list to avoid serialization errors\n",
    "    token_indices = feature_vector.indices.tolist()\n",
    "    \n",
    "    coeffs_a = broadcast_hash_coeffs_a.value\n",
    "    coeffs_b = broadcast_hash_coeffs_b.value\n",
    "    \n",
    "    for token_index in token_indices:\n",
    "        for i in range(NUM_HASHES):\n",
    "            hash_val = (coeffs_a[i] * token_index + coeffs_b[i]) % PRIME_P\n",
    "            if hash_val < signature[i]:\n",
    "                signature[i] = hash_val\n",
    "                \n",
    "    return signature\n",
    "\n",
    "minhash_udf = udf(generate_minhash_signature, ArrayType(IntegerType()))\n",
    "\n",
    "# Add a 'minhash_signature' column to our DataFrame\n",
    "print(\"Generating Min-Hash signatures for each review...\")\n",
    "df_signed = df_clean.withColumn(\"minhash_signature\", minhash_udf(col(\"features\")))\n",
    "\n",
    "\n",
    "# LSH to find Candidate Pairs\n",
    "\n",
    "# function to create hash buckets for each band of the signature\n",
    "def create_lsh_bands(signature, review_id):\n",
    "    \"\"\"\n",
    "    Take a Min-Hash signature and split it into bands.\n",
    "    Hashes each band to a bucket and returns a list of (band_id, hash, review_id).\n",
    "    \"\"\"\n",
    "    bands = []\n",
    "    for i in range(NUM_BANDS):\n",
    "        start = i * ROWS_PER_BAND\n",
    "        end = start + ROWS_PER_BAND\n",
    "        band_signature = tuple(signature[start:end])\n",
    "        band_hash = hash((i, band_signature))\n",
    "        bands.append((i, band_hash, review_id))\n",
    "    return bands\n",
    "\n",
    "# Define the schema for the output of the LSH UDF\n",
    "band_schema = ArrayType(StructType([\n",
    "    StructField(\"band_id\", IntegerType(), False),\n",
    "    StructField(\"band_hash\", LongType(), False),\n",
    "    StructField(\"review_id\", LongType(), False)\n",
    "]))\n",
    "\n",
    "lsh_udf = udf(create_lsh_bands, band_schema)\n",
    "\n",
    "# Create and explode the bands to get one row per band per review\n",
    "print(\"Applying LSH banding to find candidate pairs...\")\n",
    "df_banded = df_signed.withColumn(\"bands\", lsh_udf(col(\"minhash_signature\"), col(\"review_id\")))\n",
    "df_exploded = df_banded.select(explode(col(\"bands\")).alias(\"band_info\"))\n",
    "\n",
    "# Create a DataFrame with columns: band_id, band_hash, review_id\n",
    "df_buckets = df_exploded.select(\n",
    "    col(\"band_info.band_id\").alias(\"band_id\"),\n",
    "    col(\"band_info.band_hash\").alias(\"band_hash\"),\n",
    "    col(\"band_info.review_id\").alias(\"review_id\")\n",
    ")\n",
    "\n",
    "# Self-join to find reviews that fall into the same bucket in at least one band\n",
    "df_A = df_buckets.alias(\"A\")\n",
    "df_B = df_buckets.alias(\"B\")\n",
    "\n",
    "candidate_pairs_lsh = df_A.join(df_B, on=[\"band_id\", \"band_hash\"]) \\\n",
    "    .filter(col(\"A.review_id\") < col(\"B.review_id\")) \\\n",
    "    .select(col(\"A.review_id\").alias(\"id_A\"), col(\"B.review_id\").alias(\"id_B\")) \\\n",
    "    .distinct()\n",
    "\n",
    "\n",
    "# calculate Jaccard Distance\n",
    "\n",
    "# function to compute Jaccard similarity\n",
    "def calculate_jaccard(sig1, sig2):\n",
    "    if not sig1 or not sig2:\n",
    "        return 0.0\n",
    "    intersection = sum(1 for i in range(len(sig1)) if sig1[i] == sig2[i])\n",
    "    return intersection / len(sig1)\n",
    "\n",
    "jaccard_udf = udf(calculate_jaccard, FloatType())\n",
    "\n",
    "df_with_sigs_A = df_signed.select(col(\"review_id\").alias(\"id_A\"), col(\"minhash_signature\").alias(\"sig_A\"))\n",
    "df_with_sigs_B = df_signed.select(col(\"review_id\").alias(\"id_B\"), col(\"minhash_signature\").alias(\"sig_B\"))\n",
    "\n",
    "# calculate similarity and then distance with the threshold\n",
    "print(f\"Calculating Jaccard Distance and filtering for pairs with distance < {JACCARD_DISTANCE:.2f}...\")\n",
    "candidate_pairs_with_dist = candidate_pairs_lsh \\\n",
    "    .join(df_with_sigs_A, on=\"id_A\") \\\n",
    "    .join(df_with_sigs_B, on=\"id_B\") \\\n",
    "    .withColumn(\"JaccardSimilarity\", jaccard_udf(col(\"sig_A\"), col(\"sig_B\"))) \\\n",
    "    .withColumn(\"JaccardDistance\", 1.0 - col(\"JaccardSimilarity\")) \\\n",
    "    .filter(col(\"JaccardDistance\") < JACCARD_DISTANCE)\n",
    "\n",
    "# final join to get the original data \n",
    "df_hashed = df_clean.select(\"review_id\", \"clean_title\", \"User_id\", \"review/text\")\n",
    "\n",
    "# Join to get details for review A and B\n",
    "joined_A = candidate_pairs_with_dist.join(df_hashed.alias(\"datasetA\"), col(\"id_A\") == col(\"datasetA.review_id\"))\n",
    "joined_AB = joined_A.join(df_hashed.alias(\"datasetB\"), col(\"id_B\") == col(\"datasetB.review_id\"))\n",
    "\n",
    "# create the 'datasetA' and 'datasetB' structs to match the desired output format\n",
    "candidate_pairs = joined_AB.select(\n",
    "    struct(\n",
    "        col(\"datasetA.clean_title\"),\n",
    "        col(\"datasetA.User_id\"),\n",
    "        col(\"datasetA.review/text\"),\n",
    "        col(\"datasetA.review_id\")\n",
    "    ).alias(\"datasetA\"),\n",
    "    struct(\n",
    "        col(\"datasetB.clean_title\"),\n",
    "        col(\"datasetB.User_id\"),\n",
    "        col(\"datasetB.review/text\"),\n",
    "        col(\"datasetB.review_id\")\n",
    "    ).alias(\"datasetB\"),\n",
    "    \"JaccardDistance\"\n",
    ").cache()\n",
    "\n",
    "\n",
    "print(f\"Found {candidate_pairs.count()} candidate pairs with Jaccard Distance less than {JACCARD_DISTANCE:.2f}.\")"
   ]
  },
  {
   "cell_type": "code",
   "execution_count": 11,
   "id": "cb4986cd",
   "metadata": {},
   "outputs": [],
   "source": [
    "\n",
    "# tokenize the titles to compare their sets of words\n",
    "\n",
    "pairs_with_titles = candidate_pairs.withColumn(\"title_A\", col(\"datasetA.clean_title\")) \\\n",
    "                                   .withColumn(\"title_B\", col(\"datasetB.clean_title\"))\n",
    "\n",
    "# tokenize title columns\n",
    "title_tokenizer = Tokenizer(outputCol=\"title_A_tokens\")\n",
    "tokenized_pairs = title_tokenizer.setInputCol(\"title_A\").transform(pairs_with_titles)\n",
    "\n",
    "title_tokenizer.setOutputCol(\"title_B_tokens\")\n",
    "tokenized_pairs = title_tokenizer.setInputCol(\"title_B\").transform(tokenized_pairs)\n",
    "\n",
    "\n",
    "# define and apply a function to check for the subset relationship\n",
    "\n",
    "def is_subset(list1, list2):\n",
    "    if not list1 or not list2:\n",
    "        return False\n",
    "    set1 = set(list1)\n",
    "    set2 = set(list2)\n",
    "    return set1.issubset(set2) or set2.issubset(set1)\n",
    "\n",
    "is_subset_udf = udf(is_subset, BooleanType())\n",
    "subset_pairs = tokenized_pairs.withColumn(\"is_subset_title\", is_subset_udf(col(\"title_A_tokens\"), col(\"title_B_tokens\")))\n"
   ]
  },
  {
   "cell_type": "code",
   "execution_count": 12,
   "id": "059333f2",
   "metadata": {},
   "outputs": [
    {
     "name": "stderr",
     "output_type": "stream",
     "text": [
      "[Stage 74:======================================>             (743 + 10) / 1000]\r"
     ]
    },
    {
     "name": "stdout",
     "output_type": "stream",
     "text": [
      "Final filtering complete. The 'final_pairs'(2419 rows) DataFrame is ready.\n"
     ]
    },
    {
     "name": "stderr",
     "output_type": "stream",
     "text": [
      "                                                                                \r"
     ]
    }
   ],
   "source": [
    "# the final filters\n",
    "\n",
    "# Filter 1: remove pairs where reviews are identical AND the title is a subset.\n",
    "\n",
    "almost_final_pairs = subset_pairs.filter(\n",
    "    (col(\"JaccardDistance\") > 0.0) |\n",
    "    (col(\"is_subset_title\") == False)\n",
    ")\n",
    "\n",
    "# Filter 2: remove pairs where reviews are identical AND from the same user.\n",
    "final_pairs = almost_final_pairs.filter(\n",
    "    (col(\"JaccardDistance\") > 0.0) |\n",
    "    (col(\"datasetA.User_id\") != col(\"datasetB.User_id\"))\n",
    ").cache()\n",
    "\n",
    "\n",
    "print(f\"Final filtering complete. The 'final_pairs'({final_pairs.count()} rows) DataFrame is ready.\")"
   ]
  },
  {
   "cell_type": "code",
   "execution_count": 13,
   "id": "d2aecae5",
   "metadata": {},
   "outputs": [
    {
     "data": {
      "image/png": "[encoded data removed]",
      "text/plain": [
       "<Figure size 1200x700 with 1 Axes>"
      ]
     },
     "metadata": {},
     "output_type": "display_data"
    }
   ],
   "source": [
    "# visualize preliminary results distribution\n",
    "\n",
    "jaccard_distances_pd1 = candidate_pairs.select(\"JaccardDistance\").toPandas()\n",
    "\n",
    "plt.figure(figsize=(12, 7))\n",
    "plt.hist(jaccard_distances_pd1['JaccardDistance'], bins=25, color='skyblue', edgecolor='black')\n",
    "\n",
    "plt.title('Distribution of Jaccard Distances Between Similar Reviews', fontsize=16)\n",
    "plt.xlabel('Jaccard Distance', fontsize=12)\n",
    "plt.ylabel('Number of Pairs', fontsize=12)\n",
    "plt.grid(axis='y', alpha=0.75)\n",
    "\n",
    "plt.show()"
   ]
  },
  {
   "cell_type": "code",
   "execution_count": 14,
   "id": "dbcf047e",
   "metadata": {},
   "outputs": [
    {
     "name": "stdout",
     "output_type": "stream",
     "text": [
      "+-------------------------------------------------------------------------------+----------------------------------------------------------------------------------+---------------+---------------+\n",
      "|Title_A                                                                        |Title_B                                                                           |is_subset_title|JaccardDistance|\n",
      "+-------------------------------------------------------------------------------+----------------------------------------------------------------------------------+---------------+---------------+\n",
      "|the outsiders adapted for the stage                                            |the outsiders                                                                     |true           |0.0            |\n",
      "|the penwyth curse                                                              |penwyth curse the song novels the                                                 |true           |0.0            |\n",
      "|wuthering heights                                                              |wuthering heights riverside editions                                              |true           |0.0            |\n",
      "|little women                                                                   |little women or meg jo beth and amy                                               |true           |0.0            |\n",
      "|cats cradle                                                                    |cats cradle a dell book                                                           |true           |0.0            |\n",
      "|of mice and men penguin audiobooks                                             |of mice and men                                                                   |true           |0.0            |\n",
      "|the chronicles of narnia the lion the witch and the wardrobe collectors edition|the lion the witch and the wardrobe                                               |true           |0.0            |\n",
      "|emma ch jane austen collection                                                 |emma                                                                              |true           |0.0            |\n",
      "|harper lees to kill a mockingbird barrons book notes                           |to kill a mockingbird                                                             |true           |0.0            |\n",
      "|wuthering heights                                                              |wuthering heights the franklin library                                            |true           |0.0            |\n",
      "|picture of dorian gray                                                         |the picture of dorian gray                                                        |true           |0.0            |\n",
      "|the hobbit there and back again                                                |the hobbit                                                                        |true           |0.0            |\n",
      "|vom winde verweht  gone with the wind                                          |gone with the wind                                                                |true           |0.0            |\n",
      "|zen and the art of motorcycle maintenance  an inquiry into values              |zen and the art of motorcycle maintenance                                         |true           |0.0            |\n",
      "|adventures of huckleberry finn                                                 |the adventures of huckleberry finn                                                |true           |0.0            |\n",
      "|the hobbit                                                                     |the hobbit or there and back again                                                |true           |0.0            |\n",
      "|little women                                                                   |little women courage giant classics                                               |true           |0.0            |\n",
      "|monte cristo                                                                   |the count of monte cristo the novels of alexandre dumas                           |true           |0.0            |\n",
      "|the education of henry adams an autobiography                                  |the education of henry adams an autobiography time reading program special edition|true           |0.0            |\n",
      "|abc murders                                                                    |the abc murders                                                                   |true           |0.0            |\n",
      "+-------------------------------------------------------------------------------+----------------------------------------------------------------------------------+---------------+---------------+\n",
      "only showing top 20 rows\n"
     ]
    }
   ],
   "source": [
    "# show final filtered pairs\n",
    "\n",
    "interesting_duplicates = subset_pairs.filter(\n",
    "    (col(\"JaccardDistance\") == 0.0) &\n",
    "    (col(\"is_subset_title\") == True) &\n",
    "    (col(\"datasetA.clean_title\") != col(\"datasetB.clean_title\"))\n",
    ")\n",
    "\n",
    "interesting_duplicates.select(\n",
    "    col(\"datasetA.clean_title\").alias(\"Title_A\"),\n",
    "    col(\"datasetB.clean_title\").alias(\"Title_B\"),\n",
    "    \"is_subset_title\",\n",
    "    \"JaccardDistance\"\n",
    ").show(20, truncate=False)\n"
   ]
  },
  {
   "cell_type": "code",
   "execution_count": 15,
   "id": "4a5ae62b",
   "metadata": {},
   "outputs": [
    {
     "name": "stdout",
     "output_type": "stream",
     "text": [
      "\n",
      "Showing top candidate pairs found (sorted by least similar first):\n",
      "+------------------------------------------------------------+------------------------------------------------------------+--------------+--------------+------------------------------------------------------------+------------------------------------------------------------+------------------+\n",
      "|                                                     Title_A|                                                     Title_B|     User_ID_A|     User_ID_B|                                           Original_Review_A|                                           Original_Review_B|   JaccardDistance|\n",
      "+------------------------------------------------------------+------------------------------------------------------------+--------------+--------------+------------------------------------------------------------+------------------------------------------------------------+------------------+\n",
      "| the phantom tollbooth gk hall large print for young readers|                                               dos and donts| ABZWLVNQP6UHL|A1LK1QVSKNBGA7|What a wonderful story and my five year old loved having ...|My one year old loves this book. He will bring it to me f...|0.5999999940395355|\n",
      "|                                     and never see her again|the fight in the fields cesar chavez and the farmworkers ...| AE3YS5ND6VHGX|A2JWICBLSMYUN3|I have read all of Pat Springer's books. I love true stor...|             This is a well written book and is fun to read.|0.5999999940395355|\n",
      "|                                            then came heaven|                                                     hatchet|A23F9V2HMR11WH|A2ZRKSZQVWZIT0|This a one of the best books I've read. A tragedy and lov...|The very best survival story there is. Also the best book...|0.5999999940395355|\n",
      "|the hobbitt or there and back again illustrated by the au...|the fight in the fields cesar chavez and the farmworkers ...| AWACANL23WJG8|A2JWICBLSMYUN3|well written and easy reading.Great story line. I want to...|             This is a well written book and is fun to read.|0.5999999940395355|\n",
      "|                 the collected works of st john of the cross|                                the complete sherlock holmes| A59O0YSPF2DZ3|A2R7FURVGVKN7E|The products was mailed out in a timely manner. The condi...|Got the book in a timely manner, and the book's condition...|0.5999999940395355|\n",
      "|                           pride  prejudice penguin classics|                                                     hatchet| AEIZV74AG85O1|A2ZRKSZQVWZIT0|It's just one of the best book I've ever read! Love it! A...|The very best survival story there is. Also the best book...|0.5999999940395355|\n",
      "|                                                      lolita|                                  four and twenty blackbirds|A1FK58AT12DSFR|A3P8WHL3LBXFEF|Great book, I couldn't put it down, and highly recommend ...|i couldnt put down this wonderful book, great characters ...|0.5999999940395355|\n",
      "|                         orgullo y prejuicio spanish edition|                       recording studio design first edition|A3K3BWKOIY8MKR|A2DQPAMI2WCBMN|El libro muy bueno, la pel&iacute;cula muy buena. Los lib...|Recomiendo este libro. es una biblia y tiene todo lo que ...|0.5999999940395355|\n",
      "|aristotle the politics and the constitution of athens cam...|                                the complete sherlock holmes|A3DMQ8CR5ODOP2|A2R7FURVGVKN7E|The book arrived in a timely manner and in the condition ...|Got the book in a timely manner, and the book's condition...|0.5999999940395355|\n",
      "|                              physical chemistry 3rd edition|                                         a redbird christmas|A2WI0WYFDT6YG0|A11SGORHLQBWBF|The book was in very good conditions, I am very happy wit...|              A CLEAN nice book. Suggested by a good friend.|0.5999999940395355|\n",
      "|          please kill me the uncensored oral history of punk|                                   that was then this is now| ARGAARN5POO45|          NULL|It's the best book about punkrock I ever read, and I've r...|The book That Was Then, This is Now, is a really good boo...|0.5999999940395355|\n",
      "|             the golden one amelia peabody mysteries book 14|                                          shopaholic  sister|A38YIW4IRTCVC5|A17Q3DS3CAP3JN|Great story, good characters. I listened to the book on a...|I love all of the Shopaholic books, and this one was no d...|0.5999999940395355|\n",
      "|                                    a tree grows in brooklyn|           an embarrassment of mangoes a caribbean interlude|A1EKAXKEWS71O6|A1ZABPGTU58XX4|Loved the book! Read it in 5 days. The condition was as a...|Read this book in just days. LOVED IT !!!!!! did NOT want...|0.5999999940395355|\n",
      "|the norton anthology of literature by women the tradition...|           an introduction to satellite image interpretation|A345127PJGFNO0|A30KZA8PZACAYZ|My class has started for a whileC Have not received the b...|I am just getting started in the class where I am using t...|0.5999999940395355|\n",
      "|                                     my name is not angelica|                                       the inimitable jeeves|A3VE4VAFDN8ZQM|A10CGMKFWSQYOB|I read this book like 15 years ago when I was little and ...|I read this book many years ago and it's still refreshing...|0.5999999940395355|\n",
      "|                   the archaeology of greece an introduction|                       zondervan kjv study bible large print|A312N00JNO2L6F|A3HL1P3NY54HIV|The book arrived in good condition just days after I orde...|The book was in condition when it arrived at my house.Kee...|0.5999999940395355|\n",
      "|in cold blood a true account of a multiple murder and its...|                                       the inimitable jeeves|A2A0NXZQP6BTJ1|A10CGMKFWSQYOB|In Cold BloodI read the book many years ago and reread ag...|I read this book many years ago and it's still refreshing...|0.5999999940395355|\n",
      "|                     harry potter and the chamber of secrets|                                                  the hobbit|A329PAMQ2GXBU9| AYXTAL5DLEOL2|I very much enjoy the details and like how I can never pu...|Tolkien had a wonderful imagination, and was able to put ...|0.5999999940395355|\n",
      "|                        adobe acrobat 70 classroom in a book|                       zondervan kjv study bible large print|A14SXRZ4NYI3KM|A3HL1P3NY54HIV|Recieved item on time, right when we were told it would a...|The book was in condition when it arrived at my house.Kee...|0.5999999940395355|\n",
      "|                 her ideal husband harlequin romance no 3652|                                jane eyre everymans classics|A2OTUWUSH49XIN| A84LZH0ISUIMC|                                         I Love Liz's books!|       I love a good book and this is certainly one of them.|0.5999999940395355|\n",
      "+------------------------------------------------------------+------------------------------------------------------------+--------------+--------------+------------------------------------------------------------+------------------------------------------------------------+------------------+\n",
      "only showing top 20 rows\n"
     ]
    }
   ],
   "source": [
    "# display the final, clean results, sorted by the least similar pairs first\n",
    "\n",
    "print(\"\\nShowing top candidate pairs found (sorted by least similar first):\")\n",
    "\n",
    "final_pairs.select(\n",
    "    col(\"datasetA.clean_title\").alias(\"Title_A\"),\n",
    "    col(\"datasetB.clean_title\").alias(\"Title_B\"),\n",
    "    col(\"datasetA.User_id\").alias(\"User_ID_A\"),\n",
    "    col(\"datasetB.User_id\").alias(\"User_ID_B\"),\n",
    "    col(\"datasetA.review/text\").alias(\"Original_Review_A\"),\n",
    "    col(\"datasetB.review/text\").alias(\"Original_Review_B\"),\n",
    "    \"JaccardDistance\"\n",
    ").orderBy(col(\"JaccardDistance\").desc()).show(20, truncate=60)"
   ]
  },
  {
   "cell_type": "code",
   "execution_count": 16,
   "id": "c8ed7bdd",
   "metadata": {},
   "outputs": [
    {
     "data": {
      "image/png": "[encoded data removed]",
      "text/plain": [
       "<Figure size 1200x700 with 1 Axes>"
      ]
     },
     "metadata": {},
     "output_type": "display_data"
    }
   ],
   "source": [
    "# visualize final results distribution\n",
    "\n",
    "jaccard_distances_pd = final_pairs.select(\"JaccardDistance\").toPandas()\n",
    "\n",
    "plt.figure(figsize=(12, 7))\n",
    "plt.hist(jaccard_distances_pd['JaccardDistance'], bins=25, color='skyblue', edgecolor='black')\n",
    "\n",
    "plt.title('Distribution of Jaccard Distances Between Similar Reviews', fontsize=16)\n",
    "plt.xlabel('Jaccard Distance', fontsize=12)\n",
    "plt.ylabel('Number of Pairs', fontsize=12)\n",
    "plt.grid(axis='y', alpha=0.75)\n",
    "\n",
    "plt.show()"
   ]
  },
  {
   "cell_type": "code",
   "execution_count": 17,
   "id": "a55e48a1",
   "metadata": {},
   "outputs": [
    {
     "name": "stdout",
     "output_type": "stream",
     "text": [
      "\n",
      "Processing complete.\n"
     ]
    }
   ],
   "source": [
    "# emopty the memory and disk\n",
    "\n",
    "df_clean.unpersist()\n",
    "final_pairs.unpersist()\n",
    "df_clean.unpersist()\n",
    "\n",
    "print(\"\\nProcessing complete.\")"
   ]
  }
 ],
 "metadata": {
  "kernelspec": {
   "display_name": ".venv",
   "language": "python",
   "name": "python3"
  },
  "language_info": {
   "codemirror_mode": {
    "name": "ipython",
    "version": 3
   },
   "file_extension": ".py",
   "mimetype": "text/x-python",
   "name": "python",
   "nbconvert_exporter": "python",
   "pygments_lexer": "ipython3",
   "version": "3.9.6"
  }
 },
 "nbformat": 4,
 "nbformat_minor": 5
}
