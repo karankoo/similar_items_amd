{
 "cells": [
  {
   "cell_type": "code",
   "execution_count": 1,
   "id": "ee031e4e",
   "metadata": {},
   "outputs": [
    {
     "name": "stdout",
     "output_type": "stream",
     "text": [
      "All libraries imported successfully.\n"
     ]
    },
    {
     "name": "stderr",
     "output_type": "stream",
     "text": [
      "[nltk_data] Downloading package stopwords to\n",
      "[nltk_data]     /Users/karankooshavar/nltk_data...\n",
      "[nltk_data]   Package stopwords is already up-to-date!\n"
     ]
    }
   ],
   "source": [
    "# Import necessary libraries\n",
    "\n",
    "#!pip install pyspark\n",
    "#!pip install nltk\n",
    "#!pip install matplotlib\n",
    "#!pip install kaggle\n",
    "\n",
    "import os\n",
    "import zipfile\n",
    "\n",
    "import nltk\n",
    "from nltk.stem import PorterStemmer\n",
    "\n",
    "import matplotlib.pyplot as plt\n",
    "\n",
    "from pyspark.sql import SparkSession\n",
    "from pyspark import StorageLevel\n",
    "from pyspark.sql.functions import col, lower, regexp_replace, trim, rand, udf, size\n",
    "from pyspark.sql.types import ArrayType, StringType, BooleanType\n",
    "from pyspark.ml.feature import Tokenizer, StopWordsRemover, CountVectorizer, MinHashLSH\n",
    "from pyspark.sql.functions import monotonically_increasing_id\n",
    "\n",
    "\n",
    "nltk.download('stopwords')\n",
    "\n",
    "print(\"All libraries imported successfully.\")"
   ]
  },
  {
   "cell_type": "code",
   "execution_count": null,
   "id": "09b6b455",
   "metadata": {},
   "outputs": [
    {
     "name": "stdout",
     "output_type": "stream",
     "text": [
      "'Books_rating.csv' already exists. Skipping download and unzip.\n"
     ]
    }
   ],
   "source": [
    "# download the dataset from Kaggle if not already present\n",
    "\n",
    "csv_file = 'Books_rating.csv'\n",
    "zip_file = 'amazon-books-reviews.zip'\n",
    "\n",
    "# download and unzip if the final CSV file does not exist\n",
    "\n",
    "if not os.path.exists(csv_file):\n",
    "\n",
    "    os.environ['KAGGLE_USERNAME'] = \"xxxxxx\"\n",
    "    os.environ['KAGGLE_KEY'] = \"xxxxxx\"\n",
    "\n",
    "    !kaggle datasets download -d mohamedbakhet/amazon-books-reviews\n",
    "\n",
    "    with zipfile.ZipFile(zip_file, 'r') as zip_ref:\n",
    "        zip_ref.extractall('.')\n",
    "    print(\"Dataset downloaded and unzipped successfully.\")\n",
    "\n",
    "    os.remove(zip_file)\n",
    "\n",
    "else:\n",
    "    print(f\"'{csv_file}' already exists. Skipping download and unzip.\")"
   ]
  },
  {
   "cell_type": "code",
   "execution_count": 3,
   "id": "bf489131",
   "metadata": {},
   "outputs": [
    {
     "name": "stderr",
     "output_type": "stream",
     "text": [
      "WARNING: Using incubator modules: jdk.incubator.vector\n",
      "Using Spark's default log4j profile: org/apache/spark/log4j2-defaults.properties\n",
      "Setting default log level to \"WARN\".\n",
      "To adjust logging level use sc.setLogLevel(newLevel). For SparkR, use setLogLevel(newLevel).\n",
      "25/07/06 14:59:38 WARN NativeCodeLoader: Unable to load native-hadoop library for your platform... using builtin-java classes where applicable\n"
     ]
    }
   ],
   "source": [
    "# Initialize Spark session\n",
    "# Set the Spark application name and memory configuration\n",
    "\n",
    "spark = SparkSession.builder \\\n",
    "    .appName(\"BookReviewSimilarity\") \\\n",
    "    .config(\"spark.driver.memory\", \"8g\") \\\n",
    "    .getOrCreate()\n"
   ]
  },
  {
   "cell_type": "code",
   "execution_count": 4,
   "id": "53ecd7eb",
   "metadata": {},
   "outputs": [
    {
     "name": "stderr",
     "output_type": "stream",
     "text": [
      "[Stage 2:=================================================>       (19 + 3) / 22]\r"
     ]
    },
    {
     "name": "stdout",
     "output_type": "stream",
     "text": [
      "Using a sample of 50000 rows.\n"
     ]
    },
    {
     "name": "stderr",
     "output_type": "stream",
     "text": [
      "                                                                                \r"
     ]
    }
   ],
   "source": [
    "\n",
    "\n",
    "# loading dataset\n",
    "DATA_PATH = \"Books_rating.csv\"\n",
    "df = spark.read.csv(DATA_PATH, header=True, inferSchema=True)\n",
    "\n",
    "# specifying the sample size(to be filled manually)\n",
    "df = df.orderBy(rand(seed=42)).limit(50000)\n",
    "\n",
    "print(f\"Using a sample of {df.count()} rows.\")\n",
    "\n"
   ]
  },
  {
   "cell_type": "code",
   "execution_count": null,
   "id": "6365d713",
   "metadata": {},
   "outputs": [],
   "source": [
    "#cleaning the dataset\n",
    "\n",
    "df = df.na.drop(subset=[\"Title\", \"review/text\"])\n",
    "\n",
    "# cleaning Title column\n",
    "\n",
    "df = df.withColumn('clean_title', lower(col('Title')))\n",
    "df = df.withColumn('clean_title', regexp_replace('clean_title', r'[^a-z0-9\\s]', ''))\n",
    "df = df.withColumn('clean_title', regexp_replace('clean_title', r'\\\\s+', ' '))\n",
    "df = df.withColumn('clean_title', trim(col('clean_title')))\n",
    "\n",
    "\n",
    "# cleaning Review Text\n",
    "df = df.withColumn('clean_text', lower(col('review/text')))\n",
    "df = df.withColumn('clean_text', regexp_replace('clean_text', r'[^a-z\\s]', ''))\n",
    "df = df.withColumn('clean_text', trim(col('clean_text')))\n"
   ]
  },
  {
   "cell_type": "code",
   "execution_count": 6,
   "id": "e7d5320d",
   "metadata": {},
   "outputs": [
    {
     "name": "stderr",
     "output_type": "stream",
     "text": [
      "                                                                                \r"
     ]
    },
    {
     "name": "stdout",
     "output_type": "stream",
     "text": [
      "Rows before number-only review filtering: 49997\n"
     ]
    },
    {
     "name": "stderr",
     "output_type": "stream",
     "text": [
      "[Stage 7:>                                                          (0 + 1) / 1]\r"
     ]
    },
    {
     "name": "stdout",
     "output_type": "stream",
     "text": [
      "Rows after number-only review filtering: 49923\n"
     ]
    },
    {
     "name": "stderr",
     "output_type": "stream",
     "text": [
      "                                                                                \r"
     ]
    }
   ],
   "source": [
    "# remove reviews that are only numbers and spaces\n",
    "\n",
    "print(f\"Rows before number-only review filtering: {df.count()}\")\n",
    "\n",
    "\n",
    "df = df.filter(~col(\"clean_text\").rlike(\"^[\\\\d\\\\s]*$\"))\n",
    "\n",
    "print(f\"Rows after number-only review filtering: {df.count()}\")"
   ]
  },
  {
   "cell_type": "code",
   "execution_count": 7,
   "id": "9446644e",
   "metadata": {},
   "outputs": [
    {
     "name": "stderr",
     "output_type": "stream",
     "text": [
      "25/07/06 14:59:57 WARN StopWordsRemover: Default locale set was [en_IT]; however, it was not found in available locales in JVM, falling back to en_US locale. Set param `locale` in order to respect another locale.\n"
     ]
    }
   ],
   "source": [
    "# tokenize text using Spark's Tokenizer\n",
    "\n",
    "tokenizer = Tokenizer(inputCol=\"clean_text\", outputCol=\"words\")\n",
    "df = tokenizer.transform(df)\n",
    "\n",
    "# remove stopwords\n",
    "\n",
    "remover = StopWordsRemover(inputCol=\"words\", outputCol=\"filtered_words\")\n",
    "df = remover.transform(df)\n",
    "\n",
    "# stemming \n",
    "\n",
    "ps = PorterStemmer()\n",
    "def stem_text(words):\n",
    "    if not words:\n",
    "        return []\n",
    "    return [ps.stem(word) for word in words]\n",
    "\n",
    "stem_udf = udf(stem_text, ArrayType(StringType()))\n",
    "df = df.withColumn(\"tokens\", stem_udf(col(\"filtered_words\")))\n"
   ]
  },
  {
   "cell_type": "code",
   "execution_count": 8,
   "id": "eb0c750b",
   "metadata": {},
   "outputs": [
    {
     "name": "stdout",
     "output_type": "stream",
     "text": [
      "Added unique 'review_id' to each row.\n"
     ]
    }
   ],
   "source": [
    "# Add a unique identifier to each review row. This is crucial for the self-join later.\n",
    "df = df.withColumn(\"review_id\", monotonically_increasing_id())\n",
    "\n",
    "print(\"Added unique 'review_id' to each row.\")"
   ]
  },
  {
   "cell_type": "code",
   "execution_count": 9,
   "id": "06163aea",
   "metadata": {},
   "outputs": [
    {
     "name": "stderr",
     "output_type": "stream",
     "text": [
      "[Stage 15:>                                                         (0 + 1) / 1]\r"
     ]
    },
    {
     "name": "stdout",
     "output_type": "stream",
     "text": [
      "Rows after strict zero-vector filtering: 49910\n"
     ]
    },
    {
     "name": "stderr",
     "output_type": "stream",
     "text": [
      "                                                                                \r"
     ]
    }
   ],
   "source": [
    "\n",
    "# vectorize the final tokens using CountVectorizer\n",
    "\n",
    "# removing empty token lists\n",
    "df = df.filter(size(col('tokens')) > 0)\n",
    "\n",
    "# vectorize tokens\n",
    "cv = CountVectorizer(inputCol=\"tokens\", outputCol=\"features\", minDF=2, vocabSize=10000) # Added vocabSize limit\n",
    "df = cv.fit(df).transform(df)\n",
    "\n",
    "# function to find zero-vectors (minhash won't work with zero-vectors)\n",
    "\n",
    "def has_nonzero(v):\n",
    "    return v is not None and v.numNonzeros() > 0\n",
    "has_nonzero_udf = udf(has_nonzero, BooleanType())\n",
    "\n",
    "# remove the found zero-vectors, caching the result\n",
    "\n",
    "df_clean = df.filter(has_nonzero_udf(col(\"features\"))).persist(StorageLevel.MEMORY_AND_DISK)\n",
    "\n",
    "print(\"Rows after strict zero-vector filtering:\", df_clean.count())"
   ]
  },
  {
   "cell_type": "code",
   "execution_count": 10,
   "id": "0632e8eb",
   "metadata": {},
   "outputs": [
    {
     "name": "stdout",
     "output_type": "stream",
     "text": [
      "\n",
      "Finding pairs with Jaccard Distance less than 0.60...\n"
     ]
    },
    {
     "name": "stderr",
     "output_type": "stream",
     "text": [
      "25/07/06 15:01:14 WARN SparkStringUtils: Truncated the string representation of a plan since it was too large. This behavior can be adjusted by setting 'spark.sql.debug.maxToStringFields'.\n",
      "[Stage 32:====================================================> (196 + 4) / 200]\r"
     ]
    },
    {
     "name": "stdout",
     "output_type": "stream",
     "text": [
      "Pairs with Jaccard Distance less than 0.6 (2078 rows) DataFrame is ready.\n"
     ]
    },
    {
     "name": "stderr",
     "output_type": "stream",
     "text": [
      "                                                                                \r"
     ]
    }
   ],
   "source": [
    "# train the LSH model\n",
    "\n",
    "minhash = MinHashLSH(inputCol=\"features\", outputCol=\"hashes\", numHashTables=20)\n",
    "model = minhash.fit(df_clean)\n",
    "df_hashed = model.transform(df_clean)\n",
    "\n",
    "# similarity join\n",
    "\n",
    "JACCARD_DISTANCE = 0.6\n",
    "\n",
    "print(f\"\\nFinding pairs with Jaccard Distance less than {JACCARD_DISTANCE:.2f}...\")\n",
    "\n",
    "# find similar pairs using the LSH model and filtering not to include self-joins and duplicate pairs\n",
    "\n",
    "candidate_pairs = model.approxSimilarityJoin(\n",
    "    df_hashed, df_hashed, JACCARD_DISTANCE, distCol=\"JaccardDistance\"\n",
    ").filter(col(\"datasetA.review_id\") < col(\"datasetB.review_id\")).cache()\n",
    "\n",
    "print(f\"Pairs with Jaccard Distance less than 0.6 ({candidate_pairs.count()} rows) DataFrame is ready.\")"
   ]
  },
  {
   "cell_type": "code",
   "execution_count": 11,
   "id": "cb4986cd",
   "metadata": {},
   "outputs": [],
   "source": [
    "\n",
    "# tokenize the titles to compare their sets of words\n",
    "\n",
    "title_tokenizer = Tokenizer(outputCol=\"title_tokens\")\n",
    "tokenized_pairs = title_tokenizer.setInputCol(\"datasetA.clean_title\").transform(candidate_pairs).withColumnRenamed(\"title_tokens\", \"title_A_tokens\")\n",
    "tokenized_pairs = title_tokenizer.setInputCol(\"datasetB.clean_title\").transform(tokenized_pairs).withColumnRenamed(\"title_tokens\", \"title_B_tokens\")\n",
    "\n",
    "# define and apply a function to check for the subset relationship\n",
    "\n",
    "def is_subset(list1, list2):\n",
    "    if not list1 or not list2:\n",
    "        return False\n",
    "    set1 = set(list1)\n",
    "    set2 = set(list2)\n",
    "    return set1.issubset(set2) or set2.issubset(set1)\n",
    "\n",
    "is_subset_udf = udf(is_subset, BooleanType())\n",
    "subset_pairs = tokenized_pairs.withColumn(\"is_subset_title\", is_subset_udf(col(\"title_A_tokens\"), col(\"title_B_tokens\")))\n"
   ]
  },
  {
   "cell_type": "code",
   "execution_count": 12,
   "id": "059333f2",
   "metadata": {},
   "outputs": [
    {
     "name": "stderr",
     "output_type": "stream",
     "text": [
      "[Stage 48:==============================================>       (172 + 8) / 200]\r"
     ]
    },
    {
     "name": "stdout",
     "output_type": "stream",
     "text": [
      "Final filtering complete. The 'final_pairs'(1170 rows) DataFrame is ready.\n"
     ]
    },
    {
     "name": "stderr",
     "output_type": "stream",
     "text": [
      "                                                                                \r"
     ]
    }
   ],
   "source": [
    "# the final filters\n",
    "\n",
    "# Filter 1: remove pairs where reviews are identical AND the title is a subset.\n",
    "\n",
    "almost_final_pairs = subset_pairs.filter(\n",
    "    (col(\"JaccardDistance\") > 0.0) |\n",
    "    (col(\"is_subset_title\") == False)\n",
    ")\n",
    "\n",
    "# Filter 2: remove pairs where reviews are identical AND from the same user.\n",
    "final_pairs = almost_final_pairs.filter(\n",
    "    (col(\"JaccardDistance\") > 0.0) |\n",
    "    (col(\"datasetA.User_id\") != col(\"datasetB.User_id\"))\n",
    ").cache()\n",
    "\n",
    "\n",
    "print(f\"Final filtering complete. The 'final_pairs'({final_pairs.count()} rows) DataFrame is ready.\")"
   ]
  },
  {
   "cell_type": "code",
   "execution_count": 13,
   "id": "d2aecae5",
   "metadata": {},
   "outputs": [
    {
     "data": {
      "image/png": "[encoded data removed]",
      "text/plain": [
       "<Figure size 1200x700 with 1 Axes>"
      ]
     },
     "metadata": {},
     "output_type": "display_data"
    }
   ],
   "source": [
    "# visualize preliminary results distribution\n",
    "\n",
    "jaccard_distances_pd1 = candidate_pairs.select(\"JaccardDistance\").toPandas()\n",
    "\n",
    "plt.figure(figsize=(12, 7))\n",
    "plt.hist(jaccard_distances_pd1['JaccardDistance'], bins=25, color='skyblue', edgecolor='black')\n",
    "\n",
    "plt.title('Distribution of Jaccard Distances Between Similar Reviews', fontsize=16)\n",
    "plt.xlabel('Jaccard Distance', fontsize=12)\n",
    "plt.ylabel('Number of Pairs', fontsize=12)\n",
    "plt.grid(axis='y', alpha=0.75)\n",
    "\n",
    "plt.show()"
   ]
  },
  {
   "cell_type": "code",
   "execution_count": 14,
   "id": "dbcf047e",
   "metadata": {},
   "outputs": [
    {
     "name": "stdout",
     "output_type": "stream",
     "text": [
      "+-------------------------------------------------------------------------------+-----------------------------------------------------------+---------------+---------------+\n",
      "|Title_A                                                                        |Title_B                                                    |is_subset_title|JaccardDistance|\n",
      "+-------------------------------------------------------------------------------+-----------------------------------------------------------+---------------+---------------+\n",
      "|of mice and men penguin audiobooks                                             |of mice and men                                            |true           |0.0            |\n",
      "|little women or meg jo beth and amy parts i and ii                             |little women or meg jo beth and amy                        |true           |0.0            |\n",
      "|little women or meg jo beth and amy                                            |little women or meg jo beth and amy parts i and ii         |true           |0.0            |\n",
      "|walden                                                                         |walden  or life in the woods                               |true           |0.0            |\n",
      "|little women junior classics                                                   |little women                                               |true           |0.0            |\n",
      "|count of monte cristo                                                          |the count of monte cristo the rittenhouse classics         |true           |0.0            |\n",
      "|little women or meg jo beth and amy                                            |little women or meg jo beth and amy the little women series|true           |0.0            |\n",
      "|the autobiography of benjamin franklin                                         |autobiography of benjamin franklin the                     |true           |0.0            |\n",
      "|the hobbit or there and back again                                             |the hobbit                                                 |true           |0.0            |\n",
      "|the hobbit                                                                     |the hobbit there and back again                            |true           |0.0            |\n",
      "|the hobbit                                                                     |the hobbit there and back again                            |true           |0.0            |\n",
      "|the hobbit                                                                     |the hobbit or there and back again                         |true           |0.0            |\n",
      "|wuthering heights new windmill                                                 |wuthering heights                                          |true           |0.0            |\n",
      "|up from slavery an autobiography worlds classics                               |up from slavery                                            |true           |0.0            |\n",
      "|the hobbit                                                                     |the hobbit there and back again                            |true           |0.0            |\n",
      "|the chronicles of narnia the lion the witch and the wardrobe collectors edition|the lion the witch and the wardrobe                        |true           |0.0            |\n",
      "|crime and punishment penguin classics                                          |crime and punishment                                       |true           |0.0            |\n",
      "|lord of the flies a novel                                                      |lord of the flies                                          |true           |0.0            |\n",
      "|a tale of two cities                                                           |a tale of two cities literary touchstone edition           |true           |0.0            |\n",
      "|emma progress english                                                          |emma                                                       |true           |0.0            |\n",
      "+-------------------------------------------------------------------------------+-----------------------------------------------------------+---------------+---------------+\n",
      "only showing top 20 rows\n"
     ]
    }
   ],
   "source": [
    "# show final filtered pairs\n",
    "\n",
    "interesting_duplicates = subset_pairs.filter(\n",
    "    (col(\"JaccardDistance\") == 0.0) &\n",
    "    (col(\"is_subset_title\") == True) &\n",
    "    (col(\"datasetA.clean_title\") != col(\"datasetB.clean_title\"))\n",
    ")\n",
    "\n",
    "interesting_duplicates.select(\n",
    "    col(\"datasetA.clean_title\").alias(\"Title_A\"),\n",
    "    col(\"datasetB.clean_title\").alias(\"Title_B\"),\n",
    "    \"is_subset_title\",\n",
    "    \"JaccardDistance\"\n",
    ").show(20, truncate=False)\n"
   ]
  },
  {
   "cell_type": "code",
   "execution_count": 15,
   "id": "4a5ae62b",
   "metadata": {},
   "outputs": [
    {
     "name": "stdout",
     "output_type": "stream",
     "text": [
      "\n",
      "Showing top candidate pairs found (sorted by least similar first):\n",
      "+------------------------------------------------------------+------------------------------------------------------------+--------------+--------------+------------------------------------------------------------+------------------------------------------------------------+------------------+\n",
      "|                                                     Title_A|                                                     Title_B|     User_ID_A|     User_ID_B|                                           Original_Review_A|                                           Original_Review_B|   JaccardDistance|\n",
      "+------------------------------------------------------------+------------------------------------------------------------+--------------+--------------+------------------------------------------------------------+------------------------------------------------------------+------------------+\n",
      "|la desaparicion del universo the disappearance of the uni...|    la nueva raza latina en america la historia de un ilegal|A10XPPY4L30Q87|A165MHU5XS7EXD|Hago este primer comentario con la esperanza de que aquel...|&quot;Se trata de un libro aleccionador escrito por un lu...|0.5964912280701755|\n",
      "|                     embarazo y parto feliz  spanish edition|la desaparicion del universo the disappearance of the uni...|A3HU3JZI53DGIH|A10XPPY4L30Q87|Est&aacute; lleno de informacion, de la que jam&aacute;s ...|Hago este primer comentario con la esperanza de que aquel...|0.5961538461538461|\n",
      "|                                   del amor y otros demonios|                               la magia y tu spanish edition|          NULL|          NULL|La puesta en escena es majestuosa, usted puede sentir el ...|un clasico de la Autora Migene Gzales Wippler!!este libro...|0.5945945945945945|\n",
      "|                   hundre tusen timer dikt norwegian edition|                               la magia y tu spanish edition|A1PC6C690EYMMV|          NULL|La poes&iacute;a de Gro Dahle nos ha mostrado cu&aacute;l...|un clasico de la Autora Migene Gzales Wippler!!este libro...|0.5945945945945945|\n",
      "|the human brain and spinal cord a historical study illust...|lo mejor del feng shui para tu casa  the best of feng shu...|A2TBFIKCHUFEUR|          NULL|The Human Brain and Spinal Cord es un libro que nunca deb...|es el lugar de donde partimos para todo: El trabajo, la e...|           0.59375|\n",
      "|                                    santitos spanish edition|    la nueva raza latina en america la historia de un ilegal|A2QRUZI35IK94I|A165MHU5XS7EXD|Es un libro que saboreas pagina a pagina.Escrito magistra...|&quot;Se trata de un libro aleccionador escrito por un lu...|           0.59375|\n",
      "|                                walden  or life in the woods|la desaparicion del universo the disappearance of the uni...| A5MY11QADILVA|A10XPPY4L30Q87|walden o la vida en los bosques es mas que una novela, un...|Hago este primer comentario con la esperanza de que aquel...|0.5932203389830508|\n",
      "|                                   del amor y otros demonios|                                                el santuario|          NULL| ACZFDRKRSODTU|La puesta en escena es majestuosa, usted puede sentir el ...|el libro es muy bueno. es uno de los mejores libros q he ...|0.5925925925925926|\n",
      "|                                          los pasos perdidos|por que no la mujer una nueva perspectiva bblica sobre la...|A3IFC06SBKEMXE|A1MMQC7J01KP3L|La novela Los Pasos Perdidos propone una novedad tanto en...|Este libro es una forma excelente de abordar un tema tan ...|0.5925925925925926|\n",
      "|                                   del amor y otros demonios|autocad 2000 manual completo del usuario con cdrom manual...|          NULL|A3BS786FX5PFNF|La puesta en escena es majestuosa, usted puede sentir el ...|Es un buen libro, tanto para principiantes como para usua...|0.5925925925925926|\n",
      "|                             los sueos your dreams 7a edicin|lo mejor del feng shui para tu casa  the best of feng shu...|A1OTEJ92VV9ZUQ|          NULL|Y es cierto: Los Sue&ntilde;os spn UNA VERDAD ABSOLUTA SO...|es el lugar de donde partimos para todo: El trabajo, la e...|0.5925925925925926|\n",
      "|                                          los pasos perdidos|historia del diseno grafico  a history of graphic design ...|A3IFC06SBKEMXE|A39AZRBHWG4KRV|La novela Los Pasos Perdidos propone una novedad tanto en...|Profesores de dise&ntilde;o gr&aacute;fico, estudiantes y...|0.5925925925925926|\n",
      "|the navy seal workout  the compete totalbody fitness program|    se busca novio searching for a boyfriend spanish edition|A3KY8IO99Z2WOY|          NULL|Tengo uno de estos libros y no esta mal para mantenerse e...|para las muchachas de cualquier edad! De manera muy agrad...|0.5925925925925926|\n",
      "|autocad 2000 manual completo del usuario con cdrom manual...|if only we knew what we know the transfer of internal kno...|A3BS786FX5PFNF| AAZODD1XWYT1M|Es un buen libro, tanto para principiantes como para usua...|Un buen libro que nos induce a la reflexion sobre el valo...|0.5909090909090908|\n",
      "|                                                the talisman|                     endurance shackletons incredible voyage|A3UGHNEHEVSFPT|A1SWRTRH0SYBM9|Absolutely one of the best adventure-thriller stories I'v...|Can't put it down. Excellant read. One of the best finds ...|0.5909090909090908|\n",
      "|   invierta con exito en la bolsa de valores spanish edition|                       recording studio design first edition|A1HF26ZZ7WXE18|A2DQPAMI2WCBMN|Si ud. va a invertir en bolsa, DEBE LEER ESTE LIBRO. Lo c...|Recomiendo este libro. es una biblia y tiene todo lo que ...|0.5909090909090908|\n",
      "|hablemos acerca del sexo lets talk about sex spanishlangu...|                       recording studio design first edition|A3IZ5T3WAI2ZUM|A2DQPAMI2WCBMN|Este libro es excelente para hablar con los ninos acerca ...|Recomiendo este libro. es una biblia y tiene todo lo que ...|0.5909090909090908|\n",
      "|                                walden  or life in the woods|                                     sultana spanish edition| A5MY11QADILVA|A23UZ3MUX3NR50|walden o la vida en los bosques es mas que una novela, un...|Definitivamente, la autora logra su prop&oacute;sito: tra...|0.5897435897435898|\n",
      "|         el espejo enterrado taurus bolsillo spanish edition|if only we knew what we know the transfer of internal kno...|          NULL| AAZODD1XWYT1M|&quot;EL ESPEJO ENTERRADO&quot; ES UN LIBRO QUE NO PUEDES...|Un buen libro que nos induce a la reflexion sobre el valo...|0.5882352941176471|\n",
      "|                                                ryans return|                                         red roses mean love|A1Y1EXJA1ERXNL|          NULL|This was a wonderful book. I truly enjoyed it connected w...|For my first D'Alessandro book, it was an enjoyable read....|0.5882352941176471|\n",
      "+------------------------------------------------------------+------------------------------------------------------------+--------------+--------------+------------------------------------------------------------+------------------------------------------------------------+------------------+\n",
      "only showing top 20 rows\n"
     ]
    }
   ],
   "source": [
    "# display the final, clean results, sorted by the least similar pairs first\n",
    "\n",
    "print(\"\\nShowing top candidate pairs found (sorted by least similar first):\")\n",
    "\n",
    "final_pairs.select(\n",
    "    col(\"datasetA.clean_title\").alias(\"Title_A\"),\n",
    "    col(\"datasetB.clean_title\").alias(\"Title_B\"),\n",
    "    col(\"datasetA.User_id\").alias(\"User_ID_A\"),\n",
    "    col(\"datasetB.User_id\").alias(\"User_ID_B\"),\n",
    "    col(\"datasetA.review/text\").alias(\"Original_Review_A\"),\n",
    "    col(\"datasetB.review/text\").alias(\"Original_Review_B\"),\n",
    "    \"JaccardDistance\"\n",
    ").orderBy(col(\"JaccardDistance\").desc()).show(20, truncate=60)"
   ]
  },
  {
   "cell_type": "code",
   "execution_count": null,
   "id": "c8ed7bdd",
   "metadata": {},
   "outputs": [
    {
     "data": {
      "image/png": "[encoded data removed]",
      "text/plain": [
       "<Figure size 1200x700 with 1 Axes>"
      ]
     },
     "metadata": {},
     "output_type": "display_data"
    }
   ],
   "source": [
    "# visualize final results distribution\n",
    "\n",
    "jaccard_distances_pd = final_pairs.select(\"JaccardDistance\").toPandas()\n",
    "\n",
    "plt.figure(figsize=(12, 7))\n",
    "plt.hist(jaccard_distances_pd['JaccardDistance'], bins=25, color='skyblue', edgecolor='black')\n",
    "\n",
    "plt.title('Distribution of Jaccard Distances Between Similar Reviews', fontsize=16)\n",
    "plt.xlabel('Jaccard Distance', fontsize=12)\n",
    "plt.ylabel('Number of Pairs', fontsize=12)\n",
    "plt.grid(axis='y', alpha=0.75)\n",
    "\n",
    "plt.show()"
   ]
  },
  {
   "cell_type": "code",
   "execution_count": 17,
   "id": "a55e48a1",
   "metadata": {},
   "outputs": [
    {
     "name": "stdout",
     "output_type": "stream",
     "text": [
      "\n",
      "Processing complete.\n"
     ]
    }
   ],
   "source": [
    "# emopty the memory and disk\n",
    "\n",
    "df_clean.unpersist()\n",
    "final_pairs.unpersist()\n",
    "df_clean.unpersist()\n",
    "\n",
    "print(\"\\nProcessing complete.\")"
   ]
  }
 ],
 "metadata": {
  "kernelspec": {
   "display_name": ".venv",
   "language": "python",
   "name": "python3"
  },
  "language_info": {
   "codemirror_mode": {
    "name": "ipython",
    "version": 3
   },
   "file_extension": ".py",
   "mimetype": "text/x-python",
   "name": "python",
   "nbconvert_exporter": "python",
   "pygments_lexer": "ipython3",
   "version": "3.9.6"
  }
 },
 "nbformat": 4,
 "nbformat_minor": 5
}
